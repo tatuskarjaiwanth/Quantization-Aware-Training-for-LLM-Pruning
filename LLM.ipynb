{
  "metadata": {
    "kernelspec": {
      "language": "python",
      "display_name": "Python 3",
      "name": "python3"
    },
    "language_info": {
      "name": "python",
      "version": "3.10.14",
      "mimetype": "text/x-python",
      "codemirror_mode": {
        "name": "ipython",
        "version": 3
      },
      "pygments_lexer": "ipython3",
      "nbconvert_exporter": "python",
      "file_extension": ".py"
    },
    "kaggle": {
      "accelerator": "nvidiaTeslaT4",
      "dataSources": [],
      "dockerImageVersionId": 30788,
      "isInternetEnabled": true,
      "language": "python",
      "sourceType": "notebook",
      "isGpuEnabled": true
    },
    "colab": {
      "name": "notebook08bb85af06",
      "provenance": []
    }
  },
  "nbformat_minor": 0,
  "nbformat": 4,
  "cells": [
    {
      "cell_type": "markdown",
      "source": [
        "**ADA Project**\n",
        "\n",
        "Team: ADA_19(T_104_118_137_173)\n",
        "\n",
        "Members\n",
        "1. Pranjal Pragya - PES1UG22AM118\n",
        "2. Neha Sundararaman - PES1UG22AM104\n",
        "3. S Naga Annapurna Sri Geetika - PES1UG22AM137\n",
        "4. T Jaiwanth - PES1UG22AM173\n",
        "\n",
        "***Project_Title :- Quantization-Aware Training for LLM Pruning***"
      ],
      "metadata": {
        "id": "m0I2kYeBn3cH"
      }
    },
    {
      "cell_type": "code",
      "source": [
        "import torch\n",
        "import torch.nn as nn\n",
        "from transformers import AutoModel, AutoTokenizer"
      ],
      "metadata": {
        "trusted": true,
        "execution": {
          "iopub.status.busy": "2024-11-21T16:43:52.774071Z",
          "iopub.execute_input": "2024-11-21T16:43:52.774531Z",
          "iopub.status.idle": "2024-11-21T16:43:58.040548Z",
          "shell.execute_reply.started": "2024-11-21T16:43:52.774478Z",
          "shell.execute_reply": "2024-11-21T16:43:58.039841Z"
        },
        "id": "fbPxKOn-n3cN"
      },
      "outputs": [],
      "execution_count": null
    },
    {
      "cell_type": "markdown",
      "source": [
        "The QuantizationLayer class implements a dynamic quantization mechanism that adjusts the precision of neurons based on their energy levels. Neurons with energy above a specified threshold are assigned a higher precision (high_precision), while those below the threshold are assigned a lower precision (base_precision). During the forward pass, each neuron's precision is determined dynamically, and its activations are quantized using a scaling factor derived from the assigned precision. This selective quantization ensures that critical neurons retain finer-grained representations, while less active neurons are compressed, optimizing both accuracy and resource utilization.\n",
        "\n",
        "This aligns with the broader concepts of Adaptive Precision Heterogeneity (APH) and Thermal-Analog Quantization (TAQ). APH dynamically assigns precision across layers and operations based on their performance sensitivity, with critical components like attention layers receiving higher precision and less sensitive layers using lower precision. TAQ, inspired by thermal states, extends this idea to neurons, assigning precision based on their \"energy\" states. High-energy neurons critical for specific tasks retain higher precision, while low-energy neurons are quantized more coarsely, mimicking energy efficiency principles from physics. Together, these concepts enhance model efficiency while preserving critical task performance"
      ],
      "metadata": {
        "id": "x4FcPMOgn3cQ"
      }
    },
    {
      "cell_type": "code",
      "source": [
        "class QuantizationLayer(nn.Module):\n",
        "    def __init__(self, base_precision, high_precision, threshold):\n",
        "        super(QuantizationLayer, self).__init__()\n",
        "        self.base_precision = base_precision\n",
        "        self.high_precision = high_precision\n",
        "        self.threshold = threshold\n",
        "\n",
        "    def quantize(self, x, precision):\n",
        "        scale_factor = 2 ** (precision - 1)\n",
        "        return torch.round(x * scale_factor) / scale_factor\n",
        "\n",
        "    def forward(self, x, neuron_energy):\n",
        "        quantized_output = torch.zeros_like(x)\n",
        "        for i in range(x.size(1)):\n",
        "            precision = self.high_precision if neuron_energy[i] > self.threshold else self.base_precision\n",
        "            quantized_output[:, i] = self.quantize(x[:, i], precision)\n",
        "        return quantized_output"
      ],
      "metadata": {
        "trusted": true,
        "execution": {
          "iopub.status.busy": "2024-11-21T16:43:58.041826Z",
          "iopub.execute_input": "2024-11-21T16:43:58.042138Z",
          "iopub.status.idle": "2024-11-21T16:43:58.047889Z",
          "shell.execute_reply.started": "2024-11-21T16:43:58.042115Z",
          "shell.execute_reply": "2024-11-21T16:43:58.047035Z"
        },
        "id": "jmYPtbo4n3cR"
      },
      "outputs": [],
      "execution_count": null
    },
    {
      "cell_type": "markdown",
      "source": [
        "Here, the logic used by us in the PruningLayer is based on an energy threshold mechanism, where neurons with low energy values are deactivated to optimize model efficiency. Neuron energy, typically derived from gradient-based metrics such as the mean absolute gradient, is compared against a predefined pruning threshold. Neurons with energy below this threshold are pruned by setting their corresponding values in the input tensor to zero, effectively deactivating them while preserving the tensor's structure. This dynamic pruning process selectively retains only the most significant neurons, reducing computational overhead and potentially enhancing generalization by removing redundant or less impactful neurons during runtime."
      ],
      "metadata": {
        "id": "XIJWPaCqn3cR"
      }
    },
    {
      "cell_type": "code",
      "source": [
        "class PruningLayer(nn.Module):\n",
        "    def __init__(self, pruning_threshold):\n",
        "        super(PruningLayer, self).__init__()\n",
        "        self.pruning_threshold = pruning_threshold\n",
        "\n",
        "    def forward(self, x, neuron_energy):\n",
        "        \"\"\"\n",
        "        Prunes neurons based on energy: if the neuron energy is below the threshold, set the neuron to zero.\n",
        "        \"\"\"\n",
        "        # Prune neurons (set to zero) based on neuron energy\n",
        "        pruned_output = x.clone()\n",
        "        for i in range(x.size(1)):\n",
        "            if neuron_energy[i] < self.pruning_threshold:\n",
        "                pruned_output[:, i] = 0\n",
        "        return pruned_output\n"
      ],
      "metadata": {
        "trusted": true,
        "execution": {
          "iopub.status.busy": "2024-11-21T16:43:58.049216Z",
          "iopub.execute_input": "2024-11-21T16:43:58.049562Z",
          "iopub.status.idle": "2024-11-21T16:43:58.067928Z",
          "shell.execute_reply.started": "2024-11-21T16:43:58.049537Z",
          "shell.execute_reply": "2024-11-21T16:43:58.067308Z"
        },
        "id": "nZaLV9Tgn3cS"
      },
      "outputs": [],
      "execution_count": null
    },
    {
      "cell_type": "markdown",
      "source": [
        "HEGQ combines layer-level adaptability with neuron-specific precision scaling. First, Adaptive Precision Heterogeneity (APH) is applied to set a base precision level for each layer according to its role and sensitivity. Then, within each layer, Thermal-Analog Quantization (TAQ) adjusts the precision further based on the \"energy\" or activation level of individual neurons during specific tasks. This approach creates a multi-tiered precision framework that maximizes efficiency by allocating computational resources dynamically, optimizing for both critical and non-critical layers and neurons.\n",
        "HEGQ leverages both coarse-grained (layer) and fine-grained (neuron) quantization, ensuring that high-sensitivity layers and neurons retain high precision, while less critical areas use lower precision, conserving resources without compromising performance\n",
        "\n",
        "The HEGQModel employs a structured pruning methodology focused on energy-based pruning to enhance computational efficiency while preserving model performance. The model evaluates neuron importance dynamically using gradient-based energy calculations, where neuron energy is determined as the mean absolute value of gradients across samples. Neurons with energy values below a configurable pruning threshold are pruned by setting their activations to zero, effectively removing them from subsequent computations. ."
      ],
      "metadata": {
        "id": "92KehQWxn3cS"
      }
    },
    {
      "cell_type": "code",
      "source": [
        "\n",
        "class HEGQModel(nn.Module):\n",
        "    def __init__(self, model_name, num_classes, base_precision=4, high_precision=8, pruning_threshold=0.1):\n",
        "        super(HEGQModel, self).__init__()\n",
        "        self.base_model = AutoModel.from_pretrained(model_name)\n",
        "        self.num_classes = num_classes\n",
        "\n",
        "        # Number of layers in the transformer model\n",
        "        num_layers = self.base_model.config.num_hidden_layers\n",
        "\n",
        "        # Dynamic precision levels and thresholds for quantization\n",
        "        layer_precisions = [min(base_precision + i, high_precision) for i in range(num_layers)]\n",
        "        neuron_energy_thresholds = [0.2 + (0.6 * i / (num_layers - 1)) for i in range(num_layers)]\n",
        "\n",
        "        # Quantization and Pruning layers\n",
        "        self.quant_layers = nn.ModuleList([\n",
        "            QuantizationLayer(\n",
        "                base_precision=base_precision,\n",
        "                high_precision=layer_precisions[i],\n",
        "                threshold=neuron_energy_thresholds[i]\n",
        "            )\n",
        "            for i in range(num_layers)\n",
        "        ])\n",
        "\n",
        "        self.pruning_layer = PruningLayer(pruning_threshold)\n",
        "\n",
        "        # Classification layer\n",
        "        self.classifier = nn.Linear(self.base_model.config.hidden_size, num_classes)\n",
        "\n",
        "    def forward(self, x, labels=None):\n",
        "        # Forward pass through the base model\n",
        "        outputs = self.base_model(**x)\n",
        "        last_hidden_state = outputs.last_hidden_state\n",
        "\n",
        "        # Calculate classification logits\n",
        "        logits = self.classifier(last_hidden_state[:, 0, :])\n",
        "\n",
        "        # Compute gradients through the classification loss if labels are provided\n",
        "        if labels is not None:\n",
        "            loss_fn = nn.CrossEntropyLoss()\n",
        "            loss = loss_fn(logits, labels)\n",
        "            # Calculate gradients manually\n",
        "            grads = torch.autograd.grad(loss, last_hidden_state, retain_graph=True)[0]\n",
        "\n",
        "            # Quantize based on neuron energy and prune neurons\n",
        "            for i, quant_layer in enumerate(self.quant_layers):\n",
        "                quantized_output = torch.zeros_like(last_hidden_state)\n",
        "                for batch_idx in range(last_hidden_state.size(0)):\n",
        "                    neuron_energy = grads[batch_idx].abs().mean(dim=0)\n",
        "                    # Apply quantization\n",
        "                    quantized_output[batch_idx] = quant_layer(last_hidden_state[batch_idx], neuron_energy)\n",
        "                last_hidden_state = quantized_output\n",
        "\n",
        "            # Apply pruning\n",
        "            pruned_output = self.pruning_layer(last_hidden_state, neuron_energy)\n",
        "            last_hidden_state = pruned_output\n",
        "\n",
        "            return loss, logits\n",
        "\n",
        "        return logits"
      ],
      "metadata": {
        "trusted": true,
        "execution": {
          "iopub.status.busy": "2024-11-21T16:43:58.069527Z",
          "iopub.execute_input": "2024-11-21T16:43:58.069898Z",
          "iopub.status.idle": "2024-11-21T16:43:58.080337Z",
          "shell.execute_reply.started": "2024-11-21T16:43:58.069874Z",
          "shell.execute_reply": "2024-11-21T16:43:58.079514Z"
        },
        "id": "s4Tb-kstn3cT"
      },
      "outputs": [],
      "execution_count": null
    },
    {
      "cell_type": "markdown",
      "source": [
        "This code demonstrates a classification setup using the HEGQModel applied to the Falcon-7B model. It begins by initializing the tokenizer and setting up the HEGQModel with 10 output classes. If the tokenizer lacks a padding token, the end-of-sequence token is assigned as the padding token to ensure compatibility. The input text is tokenized into a format suitable for model input, with padding and truncation enabled to maintain consistency across different input lengths. A sample label (1) is provided to simulate a classification task. The tokenized inputs and label are passed through the HEGQModel in a forward pass, where the model computes the classification loss and outputs logits for the input text. Finally, the computed loss and logits are printed to evaluate the model's performance for the given input. This workflow highlights the model's ability to handle text classification tasks dynamically using quantization and pruning strategies"
      ],
      "metadata": {
        "id": "ND9Lk7wMn3cU"
      }
    },
    {
      "cell_type": "code",
      "source": [
        "model_name = \"tiiuae/falcon-7b\"\n",
        "tokenizer = AutoTokenizer.from_pretrained(model_name)\n",
        "model = HEGQModel(model_name, num_classes=10)\n",
        "\n",
        "# Assign a padding token if it's not already set\n",
        "if tokenizer.pad_token is None:\n",
        "    tokenizer.pad_token = tokenizer.eos_token\n",
        "\n",
        "# Prepare tokenized input\n",
        "input_text = \"Sample text for classification.\"\n",
        "inputs = tokenizer(input_text, return_tensors=\"pt\", padding=True, truncation=True)\n",
        "\n",
        "# Test with tokenized input and label\n",
        "labels = torch.tensor([1])  # Example label for classification\n",
        "\n",
        "# Run forward pass\n",
        "loss, logits = model(inputs, labels=labels)\n",
        "print(\"Loss:\", loss.item())\n",
        "print(\"Logits:\", logits)"
      ],
      "metadata": {
        "trusted": true,
        "execution": {
          "iopub.status.busy": "2024-11-21T16:43:58.081146Z",
          "iopub.execute_input": "2024-11-21T16:43:58.081416Z",
          "iopub.status.idle": "2024-11-21T16:46:25.004342Z",
          "shell.execute_reply.started": "2024-11-21T16:43:58.081392Z",
          "shell.execute_reply": "2024-11-21T16:46:25.003276Z"
        },
        "id": "j0w41cDen3cV",
        "outputId": "bd585e29-7d1a-4c4d-c478-d512eef10c8a",
        "colab": {
          "referenced_widgets": [
            "c97c4e2c8c3c4b01a145df934bdec066",
            "5d0fb117da8e4d579877f8cde99db120",
            "66bab61f9c8845a8a27a2fbb7c691f0e",
            "f710ebcc13de40ec9477a7be158e5a63",
            "ef002289953b4ba2b3edfc23d140554d",
            "7bce0be6f6954085955c04b14244f5e5",
            "489f6eedbe0e4e088f4b478faa0df71b",
            "9fcb69c4a24f415fa21608a40cfe44cb",
            "ec9bdda8969a45fca065a176a64f4149"
          ]
        }
      },
      "outputs": [
        {
          "output_type": "display_data",
          "data": {
            "text/plain": "tokenizer_config.json:   0%|          | 0.00/287 [00:00<?, ?B/s]",
            "application/vnd.jupyter.widget-view+json": {
              "version_major": 2,
              "version_minor": 0,
              "model_id": "c97c4e2c8c3c4b01a145df934bdec066"
            }
          },
          "metadata": {}
        },
        {
          "output_type": "display_data",
          "data": {
            "text/plain": "tokenizer.json:   0%|          | 0.00/2.73M [00:00<?, ?B/s]",
            "application/vnd.jupyter.widget-view+json": {
              "version_major": 2,
              "version_minor": 0,
              "model_id": "5d0fb117da8e4d579877f8cde99db120"
            }
          },
          "metadata": {}
        },
        {
          "output_type": "display_data",
          "data": {
            "text/plain": "special_tokens_map.json:   0%|          | 0.00/281 [00:00<?, ?B/s]",
            "application/vnd.jupyter.widget-view+json": {
              "version_major": 2,
              "version_minor": 0,
              "model_id": "66bab61f9c8845a8a27a2fbb7c691f0e"
            }
          },
          "metadata": {}
        },
        {
          "name": "stderr",
          "text": "/opt/conda/lib/python3.10/site-packages/transformers/tokenization_utils_base.py:1617: FutureWarning: `clean_up_tokenization_spaces` was not set. It will be set to `True` by default. This behavior will be deprecated in transformers v4.45, and will be then set to `False` by default. For more details check this issue: https://github.com/huggingface/transformers/issues/31884\n  warnings.warn(\n",
          "output_type": "stream"
        },
        {
          "output_type": "display_data",
          "data": {
            "text/plain": "config.json:   0%|          | 0.00/1.05k [00:00<?, ?B/s]",
            "application/vnd.jupyter.widget-view+json": {
              "version_major": 2,
              "version_minor": 0,
              "model_id": "f710ebcc13de40ec9477a7be158e5a63"
            }
          },
          "metadata": {}
        },
        {
          "output_type": "display_data",
          "data": {
            "text/plain": "model.safetensors.index.json:   0%|          | 0.00/17.7k [00:00<?, ?B/s]",
            "application/vnd.jupyter.widget-view+json": {
              "version_major": 2,
              "version_minor": 0,
              "model_id": "ef002289953b4ba2b3edfc23d140554d"
            }
          },
          "metadata": {}
        },
        {
          "output_type": "display_data",
          "data": {
            "text/plain": "Downloading shards:   0%|          | 0/2 [00:00<?, ?it/s]",
            "application/vnd.jupyter.widget-view+json": {
              "version_major": 2,
              "version_minor": 0,
              "model_id": "7bce0be6f6954085955c04b14244f5e5"
            }
          },
          "metadata": {}
        },
        {
          "output_type": "display_data",
          "data": {
            "text/plain": "model-00001-of-00002.safetensors:   0%|          | 0.00/9.95G [00:00<?, ?B/s]",
            "application/vnd.jupyter.widget-view+json": {
              "version_major": 2,
              "version_minor": 0,
              "model_id": "489f6eedbe0e4e088f4b478faa0df71b"
            }
          },
          "metadata": {}
        },
        {
          "output_type": "display_data",
          "data": {
            "text/plain": "model-00002-of-00002.safetensors:   0%|          | 0.00/4.48G [00:00<?, ?B/s]",
            "application/vnd.jupyter.widget-view+json": {
              "version_major": 2,
              "version_minor": 0,
              "model_id": "9fcb69c4a24f415fa21608a40cfe44cb"
            }
          },
          "metadata": {}
        },
        {
          "output_type": "display_data",
          "data": {
            "text/plain": "Loading checkpoint shards:   0%|          | 0/2 [00:00<?, ?it/s]",
            "application/vnd.jupyter.widget-view+json": {
              "version_major": 2,
              "version_minor": 0,
              "model_id": "ec9bdda8969a45fca065a176a64f4149"
            }
          },
          "metadata": {}
        },
        {
          "name": "stdout",
          "text": "Loss: 6.369740009307861\nLogits: tensor([[-2.0613, -4.3638, -3.3293, -0.0172, -1.5009, -0.1857,  1.3222,  0.2413,\n         -3.0237, -1.9128]], grad_fn=<AddmmBackward0>)\n",
          "output_type": "stream"
        }
      ],
      "execution_count": null
    },
    {
      "cell_type": "code",
      "source": [],
      "metadata": {
        "trusted": true,
        "id": "-YGd5UZUn3cW"
      },
      "outputs": [],
      "execution_count": null
    }
  ]
}